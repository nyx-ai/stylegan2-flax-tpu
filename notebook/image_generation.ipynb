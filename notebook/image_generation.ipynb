{
  "nbformat": 4,
  "nbformat_minor": 0,
  "metadata": {
    "colab": {
      "name": "StyleGAN2 Flax TPU  - Image generation",
      "provenance": []
    },
    "kernelspec": {
      "name": "python3",
      "display_name": "Python 3"
    },
    "language_info": {
      "name": "python"
    }
  },
  "cells": [
    {
      "cell_type": "markdown",
      "source": [
        "# StyleGAN2 Flax TPU  - Image generation"
      ],
      "metadata": {
        "id": "wH5tE-g44D6u"
      }
    },
    {
      "cell_type": "markdown",
      "source": [
        "# Setup 🧰\n"
      ],
      "metadata": {
        "id": "bgfpQisDRvPL"
      }
    },
    {
      "cell_type": "code",
      "source": [
        "!git clone https://github.com/nyx-ai/stylegan2-flax-tpu\n",
        "%cd stylegan2-flax-tpu"
      ],
      "metadata": {
        "colab": {
          "base_uri": "https://localhost:8080/"
        },
        "id": "h9Mpo6VqRS5h",
        "outputId": "bcbdbf2f-46ce-47c9-bf0a-662e2ed40176"
      },
      "execution_count": 1,
      "outputs": [
        {
          "output_type": "stream",
          "name": "stdout",
          "text": [
            "Cloning into 'stylegan2-flax-tpu'...\n",
            "remote: Enumerating objects: 63, done.\u001b[K\n",
            "remote: Counting objects: 100% (63/63), done.\u001b[K\n",
            "remote: Compressing objects: 100% (51/51), done.\u001b[K\n",
            "remote: Total 63 (delta 18), reused 44 (delta 10), pack-reused 0\u001b[K\n",
            "Unpacking objects: 100% (63/63), done.\n",
            "/content/stylegan2-flax-tpu\n"
          ]
        }
      ]
    },
    {
      "cell_type": "code",
      "source": [
        "%%capture\n",
        "!pip install --upgrade jax flax"
      ],
      "metadata": {
        "id": "oHdFBePw5dPI"
      },
      "execution_count": 2,
      "outputs": []
    },
    {
      "cell_type": "markdown",
      "source": [
        "## Download the pretrained models ⬇️"
      ],
      "metadata": {
        "id": "R9GcZs_4iZs2"
      }
    },
    {
      "cell_type": "code",
      "source": [
        "!wget -q --show-progress \"https://github.com/nyx-ai/stylegan2-flax-tpu/releases/download/v0.1/cookie-256.pkl\"\n",
        "!wget -q --show-progress \"https://github.com/nyx-ai/stylegan2-flax-tpu/releases/download/v0.1/sushi-256.pkl\"\n",
        "!wget -q --show-progress \"https://github.com/nyx-ai/stylegan2-flax-tpu/releases/download/v0.1/cocktail-256.pkl\"\n",
        "!wget -q --show-progress \"https://github.com/nyx-ai/stylegan2-flax-tpu/releases/download/v0.1/cheesecake-256.pkl\""
      ],
      "metadata": {
        "colab": {
          "base_uri": "https://localhost:8080/"
        },
        "id": "A04syzP8irCL",
        "outputId": "cd1a4d92-70be-4a52-c4fc-322d52dbcc2f"
      },
      "execution_count": 8,
      "outputs": [
        {
          "output_type": "stream",
          "name": "stdout",
          "text": [
            "cookie-256.pkl.1    100%[===================>] 789.99M   152MB/s    in 5.3s    \n",
            "sushi-256.pkl.1     100%[===================>] 789.99M   167MB/s    in 4.9s    \n",
            "cocktail-256.pkl.1  100%[===================>] 789.99M   110MB/s    in 7.1s    \n",
            "cheesecake-256.pkl. 100%[===================>] 789.99M   120MB/s    in 6.1s    \n"
          ]
        }
      ]
    },
    {
      "cell_type": "markdown",
      "source": [
        "## Let's generate some food! 🍪🍰🍣🍹"
      ],
      "metadata": {
        "id": "NhRBAyFFOoLH"
      }
    },
    {
      "cell_type": "code",
      "source": [
        "!mkdir -p generated_images/cookie generated_images/sushi generated_images/cocktail generated_images/cheesecake"
      ],
      "metadata": {
        "id": "Ab0zHplSS-TK"
      },
      "execution_count": 15,
      "outputs": []
    },
    {
      "cell_type": "code",
      "source": [
        "!python generate_images.py \\\n",
        "   --checkpoint cookie-256.pkl \\\n",
        "   --seeds 0 42 420 666 \\\n",
        "   --truncation_psi 0.7 \\\n",
        "   --out_path generated_images/cookie"
      ],
      "metadata": {
        "colab": {
          "base_uri": "https://localhost:8080/"
        },
        "id": "7P8fU33L2MsK",
        "outputId": "a49fa2e5-e26f-42f4-a983-28faca6a691f"
      },
      "execution_count": 16,
      "outputs": [
        {
          "output_type": "stream",
          "name": "stdout",
          "text": [
            "2022-07-20 09:11:07.079366: E external/org_tensorflow/tensorflow/stream_executor/cuda/cuda_driver.cc:265] failed call to cuInit: CUDA_ERROR_NO_DEVICE: no CUDA-capable device is detected\n",
            "WARNING:absl:No GPU/TPU found, falling back to CPU. (Set TF_CPP_MIN_LOG_LEVEL=0 and rerun for more info.)\n",
            "100% 4/4 [00:46<00:00, 11.57s/it]\n"
          ]
        }
      ]
    },
    {
      "cell_type": "code",
      "source": [
        "!python generate_images.py \\\n",
        "   --checkpoint sushi-256.pkl \\\n",
        "   --seeds 31 42 420 108 \\\n",
        "   --truncation_psi 0.7 \\\n",
        "   --out_path generated_images/sushi"
      ],
      "metadata": {
        "colab": {
          "base_uri": "https://localhost:8080/"
        },
        "id": "BJsP4SH43lFL",
        "outputId": "a5aa972e-aa02-493a-f8f5-89a5ddbc06fb"
      },
      "execution_count": 17,
      "outputs": [
        {
          "output_type": "stream",
          "name": "stdout",
          "text": [
            "2022-07-20 09:12:00.591803: E external/org_tensorflow/tensorflow/stream_executor/cuda/cuda_driver.cc:265] failed call to cuInit: CUDA_ERROR_NO_DEVICE: no CUDA-capable device is detected\n",
            "WARNING:absl:No GPU/TPU found, falling back to CPU. (Set TF_CPP_MIN_LOG_LEVEL=0 and rerun for more info.)\n",
            "100% 4/4 [00:45<00:00, 11.49s/it]\n"
          ]
        }
      ]
    },
    {
      "cell_type": "code",
      "source": [
        "!python generate_images.py \\\n",
        "   --checkpoint cocktail-256.pkl \\\n",
        "   --seeds 7 19 21 33 \\\n",
        "   --truncation_psi 0.7 \\\n",
        "   --out_path generated_images/cocktail"
      ],
      "metadata": {
        "colab": {
          "base_uri": "https://localhost:8080/"
        },
        "id": "btI9g13R3lYA",
        "outputId": "c87b62a8-a5a8-4970-a92c-62c50773cc7c"
      },
      "execution_count": 18,
      "outputs": [
        {
          "output_type": "stream",
          "name": "stdout",
          "text": [
            "2022-07-20 09:12:53.975091: E external/org_tensorflow/tensorflow/stream_executor/cuda/cuda_driver.cc:265] failed call to cuInit: CUDA_ERROR_NO_DEVICE: no CUDA-capable device is detected\n",
            "WARNING:absl:No GPU/TPU found, falling back to CPU. (Set TF_CPP_MIN_LOG_LEVEL=0 and rerun for more info.)\n",
            "100% 4/4 [00:46<00:00, 11.50s/it]\n"
          ]
        }
      ]
    },
    {
      "cell_type": "code",
      "source": [
        "!python generate_images.py \\\n",
        "   --checkpoint cheesecake-256.pkl \\\n",
        "   --seeds 4 8 15 74 \\\n",
        "   --truncation_psi 0.5 \\\n",
        "   --out_path generated_images/cheesecake"
      ],
      "metadata": {
        "colab": {
          "base_uri": "https://localhost:8080/"
        },
        "id": "z9E3bgDw3lv9",
        "outputId": "c32e3e0f-7430-4c05-d1ed-4ec4d1838399"
      },
      "execution_count": 20,
      "outputs": [
        {
          "output_type": "stream",
          "name": "stdout",
          "text": [
            "2022-07-20 10:24:10.023229: E external/org_tensorflow/tensorflow/stream_executor/cuda/cuda_driver.cc:265] failed call to cuInit: CUDA_ERROR_NO_DEVICE: no CUDA-capable device is detected\n",
            "WARNING:absl:No GPU/TPU found, falling back to CPU. (Set TF_CPP_MIN_LOG_LEVEL=0 and rerun for more info.)\n",
            "100% 4/4 [00:50<00:00, 12.69s/it]\n"
          ]
        }
      ]
    }
  ]
}
